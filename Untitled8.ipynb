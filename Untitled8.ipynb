{
  "nbformat": 4,
  "nbformat_minor": 0,
  "metadata": {
    "colab": {
      "name": "Untitled8.ipynb",
      "provenance": [],
      "authorship_tag": "ABX9TyMtZD1IhxjZuq6j7puILcks",
      "include_colab_link": true
    },
    "kernelspec": {
      "name": "python3",
      "display_name": "Python 3"
    },
    "language_info": {
      "name": "python"
    }
  },
  "cells": [
    {
      "cell_type": "markdown",
      "metadata": {
        "id": "view-in-github",
        "colab_type": "text"
      },
      "source": [
        "<a href=\"https://colab.research.google.com/github/miotomita/covid_automation/blob/main/Untitled8.ipynb\" target=\"_parent\"><img src=\"https://colab.research.google.com/assets/colab-badge.svg\" alt=\"Open In Colab\"/></a>"
      ]
    },
    {
      "cell_type": "code",
      "source": [
        "import pandas as pd\n",
        "import json\n",
        "import requests\n",
        "from datetime import datetime, date, timedelta, timezone"
      ],
      "metadata": {
        "id": "4lOL17mKmnAU"
      },
      "execution_count": 19,
      "outputs": []
    },
    {
      "cell_type": "code",
      "source": [
        "r = requests.get('https://services1.arcgis.com/0MSEUqKaxRlEPj5g/arcgis/rest/services/ncov_cases2_v1/FeatureServer/2/query?f=json&where=1%3D1&returnGeometry=false&spatialRel=esriSpatialRelIntersects&outFields=*&orderByFields=OBJECTID%20ASC&resultOffset=0&resultRecordCount=200&cacheHint=true&quantizationParameters=%7B%22mode%22%3A%22edit%22%7D').json()\n",
        "data = pd.json_normalize(r['features'])"
      ],
      "metadata": {
        "id": "TJ7tNQb5memo"
      },
      "execution_count": 10,
      "outputs": []
    },
    {
      "cell_type": "code",
      "source": [
        "tot = data['attributes.Confirmed'].sum()"
      ],
      "metadata": {
        "id": "crMytUqGmuaM"
      },
      "execution_count": 12,
      "outputs": []
    },
    {
      "cell_type": "code",
      "source": [
        "upd = pd.to_datetime(data['attributes.Last_Update'],unit='ms').dt.tz_localize('utc').dt.tz_convert('Asia/Tokyo').max().strftime('%m/%d %H:%M')"
      ],
      "metadata": {
        "id": "U2eUju2hm5cw"
      },
      "execution_count": 39,
      "outputs": []
    },
    {
      "cell_type": "code",
      "source": [
        "a, b = divmod(tot, 100000000)"
      ],
      "metadata": {
        "id": "rYM86ZY3pCXd"
      },
      "execution_count": 46,
      "outputs": []
    },
    {
      "cell_type": "code",
      "source": [
        "text = '世界の累計感染者数: ' + str(a) + '億' + str(b//10000) +'万人' + '（日本時間'+upd+'時点）'"
      ],
      "metadata": {
        "id": "kWDcJT1cpxsI"
      },
      "execution_count": 58,
      "outputs": []
    },
    {
      "cell_type": "code",
      "source": [
        "str = {\"text\":text}"
      ],
      "metadata": {
        "id": "bBC5-Iltqrt1"
      },
      "execution_count": 60,
      "outputs": []
    },
    {
      "cell_type": "code",
      "source": [
        "with open('./covid_500mil.json', 'w') as f:\n",
        "    json.dump(str, f, ensure_ascii=False)"
      ],
      "metadata": {
        "id": "SuhIIyU-qI7k"
      },
      "execution_count": null,
      "outputs": []
    }
  ]
}